{
 "cells": [
  {
   "cell_type": "code",
   "execution_count": 1,
   "metadata": {},
   "outputs": [
    {
     "data": {
      "text/plain": [
       "0    4\n",
       "1    7\n",
       "2   -5\n",
       "3    3\n",
       "dtype: int64"
      ]
     },
     "execution_count": 1,
     "metadata": {},
     "output_type": "execute_result"
    }
   ],
   "source": [
    "import pandas as pd\n",
    "obj = pd.Series([4, 7, -5, 3])\n",
    "obj"
   ]
  },
  {
   "cell_type": "code",
   "execution_count": 2,
   "metadata": {},
   "outputs": [
    {
     "data": {
      "text/plain": [
       "0     9\n",
       "1    12\n",
       "2     0\n",
       "3     8\n",
       "dtype: int64"
      ]
     },
     "execution_count": 2,
     "metadata": {},
     "output_type": "execute_result"
    }
   ],
   "source": [
    "obj+5"
   ]
  },
  {
   "cell_type": "code",
   "execution_count": 3,
   "metadata": {},
   "outputs": [
    {
     "data": {
      "text/plain": [
       "0     8\n",
       "1    14\n",
       "2   -10\n",
       "3     6\n",
       "dtype: int64"
      ]
     },
     "execution_count": 3,
     "metadata": {},
     "output_type": "execute_result"
    }
   ],
   "source": [
    "obj*2"
   ]
  },
  {
   "cell_type": "code",
   "execution_count": 4,
   "metadata": {},
   "outputs": [
    {
     "data": {
      "text/plain": [
       "0    4\n",
       "dtype: int64"
      ]
     },
     "execution_count": 4,
     "metadata": {},
     "output_type": "execute_result"
    }
   ],
   "source": [
    "obj[obj%2==0]"
   ]
  },
  {
   "cell_type": "code",
   "execution_count": 5,
   "metadata": {},
   "outputs": [
    {
     "data": {
      "text/plain": [
       "0    0\n",
       "1    1\n",
       "2    1\n",
       "3    1\n",
       "dtype: int64"
      ]
     },
     "execution_count": 5,
     "metadata": {},
     "output_type": "execute_result"
    }
   ],
   "source": [
    "obj%2"
   ]
  },
  {
   "cell_type": "code",
   "execution_count": 6,
   "metadata": {},
   "outputs": [
    {
     "name": "stdout",
     "output_type": "stream",
     "text": [
      "Ohio      35000\n",
      "Texas     71000\n",
      "Oregon    16000\n",
      "Utah       5000\n",
      "dtype: int64\n"
     ]
    }
   ],
   "source": [
    "sdata = {'Ohio': 35000, 'Texas': 71000, 'Oregon': 16000, \n",
    "'Utah': 5000} \n",
    "obj3 = pd.Series(sdata) \n",
    "print(obj3)"
   ]
  },
  {
   "cell_type": "code",
   "execution_count": 29,
   "metadata": {},
   "outputs": [
    {
     "name": "stdout",
     "output_type": "stream",
     "text": [
      "<class 'pandas.core.frame.DataFrame'>\n",
      "     outlook   temperature   humidity   windy  play\n",
      "0      sunny            85         85   False    no\n",
      "1      sunny            80         90    True    no\n",
      "2   overcast            83         86   False   yes\n",
      "3      rainy            70         96   False   yes\n",
      "4      rainy            68         80   False   yes\n",
      "5      rainy            65         70    True    no\n",
      "6   overcast            64         65    True   yes\n",
      "7      sunny            72         95   False    no\n",
      "8      sunny            69         70   False   yes\n",
      "9      rainy            75         80   False   yes\n",
      "10     sunny            75         70    True   yes\n",
      "11  overcast            72         90    True   yes\n",
      "12  overcast            81         75   False   yes\n",
      "13     rainy            71         91    True    no\n",
      "14     rainy           100         70    True    no\n",
      "15     sunny            45         70    True    no\n"
     ]
    }
   ],
   "source": [
    "df = pd.read_csv('C:\\Programming\\CSE303 Lab\\Dataset\\weather.csv')\n",
    "print(type(df))\n",
    "print(df)"
   ]
  },
  {
   "cell_type": "code",
   "execution_count": 30,
   "metadata": {},
   "outputs": [
    {
     "name": "stdout",
     "output_type": "stream",
     "text": [
      "<class 'pandas.core.series.Series'>\n",
      "0      85\n",
      "1      80\n",
      "2      83\n",
      "3      70\n",
      "4      68\n",
      "5      65\n",
      "6      64\n",
      "7      72\n",
      "8      69\n",
      "9      75\n",
      "10     75\n",
      "11     72\n",
      "12     81\n",
      "13     71\n",
      "14    100\n",
      "15     45\n",
      "Name: temperature, dtype: int64\n"
     ]
    }
   ],
   "source": [
    "df.columns = ['outlook','temperature','humidity','windy','play']\n",
    "t = df['temperature']\n",
    "print(type(t))\n",
    "print(t)\n"
   ]
  },
  {
   "cell_type": "code",
   "execution_count": 31,
   "metadata": {},
   "outputs": [
    {
     "name": "stdout",
     "output_type": "stream",
     "text": [
      "1175\n"
     ]
    }
   ],
   "source": [
    "sum = 0\n",
    "for value in t:\n",
    "    sum+=value\n",
    "print(sum)"
   ]
  },
  {
   "cell_type": "code",
   "execution_count": 49,
   "metadata": {},
   "outputs": [
    {
     "name": "stdout",
     "output_type": "stream",
     "text": [
      "    temperature  humidity\n",
      "0            85        85\n",
      "1            80        90\n",
      "2            83        86\n",
      "3            70        96\n",
      "4            68        80\n",
      "5            65        70\n",
      "6            64        65\n",
      "7            72        95\n",
      "8            69        70\n",
      "9            75        80\n",
      "10           75        70\n",
      "11           72        90\n",
      "12           81        75\n",
      "13           71        91\n",
      "14          100        70\n",
      "15           45        70\n"
     ]
    }
   ],
   "source": [
    "df1 = df[['temperature','humidity']]\n",
    "print(df1)"
   ]
  },
  {
   "cell_type": "code",
   "execution_count": 32,
   "metadata": {},
   "outputs": [
    {
     "name": "stdout",
     "output_type": "stream",
     "text": [
      "   temperature  humidity\n",
      "0           85        85\n",
      "1           80        90\n",
      "2           83        86\n",
      "3           70        96\n",
      "4           68        80\n",
      "5           65        70\n",
      "6           64        65\n",
      "7           72        95\n",
      "8           69        70\n",
      "9           75        80\n",
      "   temperature  humidity\n",
      "0           85        85\n",
      "1           80        90\n",
      "2           83        86\n",
      "3           70        96\n",
      "4           68        80\n",
      "5           65        70\n",
      "6           64        65\n",
      "7           72        95\n",
      "8           69        70\n",
      "9           75        80\n"
     ]
    }
   ],
   "source": [
    "df2 = df.loc[0:9,['temperature','humidity']]\n",
    "print(df2)\n",
    "df3 = df.iloc[0:10,[1,2]]\n",
    "print(df3)"
   ]
  },
  {
   "cell_type": "code",
   "execution_count": 34,
   "metadata": {},
   "outputs": [
    {
     "name": "stdout",
     "output_type": "stream",
     "text": [
      "     outlook  temperature  windy\n",
      "1      sunny           80   True\n",
      "3      rainy           70  False\n",
      "5      rainy           65   True\n",
      "7      sunny           72  False\n",
      "9      rainy           75  False\n",
      "11  overcast           72   True\n",
      "13     rainy           71   True\n",
      "15     sunny           45   True\n"
     ]
    }
   ],
   "source": [
    "# for all odd-numbered index, display outlook, temperature\n",
    "# and windy column values\n",
    "\n",
    "df4 = df.iloc[1::2,[0,1,3]]\n",
    "print(df4)"
   ]
  },
  {
   "cell_type": "code",
   "execution_count": 35,
   "metadata": {},
   "outputs": [
    {
     "name": "stdout",
     "output_type": "stream",
     "text": [
      "Mean:  temperature    73.4375\n",
      "dtype: float64\n",
      "Standard Deviation:  temperature    11.764176\n",
      "dtype: float64\n",
      "Variance:  temperature    138.395833\n",
      "dtype: float64\n",
      "Lower Quartile:  temperature    68.75\n",
      "Name: 0.25, dtype: float64\n",
      "Median:  temperature    72.0\n",
      "Name: 0.5, dtype: float64\n",
      "Median:  temperature    72.0\n",
      "dtype: float64\n",
      "Upper Quartile:  temperature    80.25\n",
      "Name: 0.75, dtype: float64\n",
      "Skewness:  temperature   -0.13398\n",
      "dtype: float64\n",
      "Kurtosis:  temperature    2.521107\n",
      "dtype: float64\n",
      "Min:  temperature    45\n",
      "dtype: int64\n",
      "Max:  temperature    100\n",
      "dtype: int64\n"
     ]
    }
   ],
   "source": [
    "# all statistical measures over temperature column\n",
    "temperature = df[['temperature']]\n",
    "\n",
    "print(\"Mean: \" , temperature.mean())\n",
    "print(\"Standard Deviation: \", temperature.std())\n",
    "print(\"Variance: \", temperature.var())\n",
    "print(\"Lower Quartile: \" , temperature.quantile(0.25))\n",
    "print(\"Median: \", temperature.quantile(0.5))\n",
    "print(\"Median: \" , temperature.median())\n",
    "print(\"Upper Quartile: \" , temperature.quantile(0.75))\n",
    "print(\"Skewness: \" , temperature.skew())\n",
    "print(\"Kurtosis: \" , temperature.kurt())\n",
    "print(\"Min: \", temperature.min())\n",
    "print(\"Max: \", temperature.max())"
   ]
  },
  {
   "cell_type": "code",
   "execution_count": 37,
   "metadata": {},
   "outputs": [
    {
     "data": {
      "text/plain": [
       "array([[<AxesSubplot:title={'center':'temperature'}>]], dtype=object)"
      ]
     },
     "execution_count": 37,
     "metadata": {},
     "output_type": "execute_result"
    },
    {
     "data": {
      "image/png": "[encoded data removed]",
      "text/plain": [
       "<Figure size 432x288 with 1 Axes>"
      ]
     },
     "metadata": {
      "needs_background": "light"
     },
     "output_type": "display_data"
    }
   ],
   "source": [
    "df.hist(column=['temperature'], bins = 5)"
   ]
  },
  {
   "cell_type": "code",
   "execution_count": 38,
   "metadata": {},
   "outputs": [
    {
     "data": {
      "text/plain": [
       "array([[<AxesSubplot:title={'center':'humidity'}>]], dtype=object)"
      ]
     },
     "execution_count": 38,
     "metadata": {},
     "output_type": "execute_result"
    },
    {
     "data": {
      "image/png": "[encoded data removed]",
      "text/plain": [
       "<Figure size 432x288 with 1 Axes>"
      ]
     },
     "metadata": {
      "needs_background": "light"
     },
     "output_type": "display_data"
    }
   ],
   "source": [
    "df.hist(column='humidity', bins = 5)"
   ]
  },
  {
   "cell_type": "code",
   "execution_count": 39,
   "metadata": {},
   "outputs": [
    {
     "name": "stdout",
     "output_type": "stream",
     "text": [
      "Mean:  humidity    80.1875\n",
      "dtype: float64\n",
      "Standard Deviation:  humidity    10.36802\n",
      "dtype: float64\n",
      "Variance:  humidity    107.495833\n",
      "dtype: float64\n",
      "Lower Quartile:  humidity    70.0\n",
      "Name: 0.25, dtype: float64\n",
      "Median:  humidity    80.0\n",
      "Name: 0.5, dtype: float64\n",
      "Median:  humidity    80.0\n",
      "dtype: float64\n",
      "Upper Quartile:  humidity    90.0\n",
      "Name: 0.75, dtype: float64\n",
      "Skewness:  humidity    0.118669\n",
      "dtype: float64\n",
      "Kurtosis:  humidity   -1.533119\n",
      "dtype: float64\n",
      "Min:  humidity    65\n",
      "dtype: int64\n",
      "Max:  humidity    96\n",
      "dtype: int64\n"
     ]
    }
   ],
   "source": [
    "humidity = df[['humidity']]\n",
    "print(\"Mean: \" , humidity.mean())\n",
    "print(\"Standard Deviation: \", humidity.std())\n",
    "print(\"Variance: \", humidity.var())\n",
    "print(\"Lower Quartile: \" , humidity.quantile(0.25))\n",
    "print(\"Median: \", humidity.quantile(0.5))\n",
    "print(\"Median: \" , humidity.median())\n",
    "print(\"Upper Quartile: \" , humidity.quantile(0.75))\n",
    "print(\"Skewness: \" , humidity.skew())\n",
    "print(\"Kurtosis: \" , humidity.kurt())\n",
    "print(\"Min: \", humidity.min())\n",
    "print(\"Max: \", humidity.max())"
   ]
  },
  {
   "cell_type": "code",
   "execution_count": 40,
   "metadata": {},
   "outputs": [
    {
     "name": "stdout",
     "output_type": "stream",
     "text": [
      "[[1, 0], [1, 1], [2, 2], [2, 3], [2, 3], [2, 4], [3, 4], [3, 5], [4, 6], [5, 7]]\n"
     ]
    }
   ],
   "source": [
    "list1 = [[1,0], [1,1], [2,2], [2,3], [2,3], \n",
    "         [2,4], [3,4], [3,5], [4,6], [5,7]]\n",
    "print(list1)"
   ]
  },
  {
   "cell_type": "code",
   "execution_count": 41,
   "metadata": {},
   "outputs": [
    {
     "name": "stdout",
     "output_type": "stream",
     "text": [
      "   x  y\n",
      "0  1  0\n",
      "1  1  1\n",
      "2  2  2\n",
      "3  2  3\n",
      "4  2  3\n",
      "5  2  4\n",
      "6  3  4\n",
      "7  3  5\n",
      "8  4  6\n",
      "9  5  7\n"
     ]
    }
   ],
   "source": [
    "df_list1 = pd.DataFrame(list1, columns = ['x','y'])\n",
    "print(df_list1)"
   ]
  },
  {
   "cell_type": "code",
   "execution_count": 42,
   "metadata": {},
   "outputs": [
    {
     "data": {
      "text/plain": [
       "array([[<AxesSubplot:title={'center':'x'}>]], dtype=object)"
      ]
     },
     "execution_count": 42,
     "metadata": {},
     "output_type": "execute_result"
    },
    {
     "data": {
      "image/png": "[encoded data removed]",
      "text/plain": [
       "<Figure size 432x288 with 1 Axes>"
      ]
     },
     "metadata": {
      "needs_background": "light"
     },
     "output_type": "display_data"
    }
   ],
   "source": [
    "df_list1.hist(column = ['x'], bins = 5)"
   ]
  },
  {
   "cell_type": "code",
   "execution_count": 43,
   "metadata": {},
   "outputs": [
    {
     "name": "stdout",
     "output_type": "stream",
     "text": [
      "Skew:  x    0.815005\n",
      "dtype: float64\n"
     ]
    }
   ],
   "source": [
    "print('Skew: ', df_list1[['x']].skew())"
   ]
  },
  {
   "cell_type": "code",
   "execution_count": 44,
   "metadata": {},
   "outputs": [
    {
     "data": {
      "text/plain": [
       "array([[<AxesSubplot:title={'center':'y'}>]], dtype=object)"
      ]
     },
     "execution_count": 44,
     "metadata": {},
     "output_type": "execute_result"
    },
    {
     "data": {
      "image/png": "[encoded data removed]",
      "text/plain": [
       "<Figure size 432x288 with 1 Axes>"
      ]
     },
     "metadata": {
      "needs_background": "light"
     },
     "output_type": "display_data"
    }
   ],
   "source": [
    "df_list1.hist(column = ['y'], bins = 8)"
   ]
  },
  {
   "cell_type": "code",
   "execution_count": 45,
   "metadata": {},
   "outputs": [
    {
     "name": "stdout",
     "output_type": "stream",
     "text": [
      "Skew:  y    0.0\n",
      "dtype: float64\n"
     ]
    }
   ],
   "source": [
    "print('Skew: ', df_list1[['y']].skew())"
   ]
  },
  {
   "cell_type": "code",
   "execution_count": 46,
   "metadata": {},
   "outputs": [
    {
     "name": "stdout",
     "output_type": "stream",
     "text": [
      "Kurt - X:  x    0.25378\n",
      "dtype: float64\n",
      "Kurt - Y:  y   -0.53564\n",
      "dtype: float64\n"
     ]
    }
   ],
   "source": [
    "print('Kurt - X: ', df_list1[['x']].kurt())\n",
    "print('Kurt - Y: ', df_list1[['y']].kurt())"
   ]
  },
  {
   "cell_type": "code",
   "execution_count": 47,
   "metadata": {},
   "outputs": [
    {
     "data": {
      "text/plain": [
       "<AxesSubplot:xlabel='x', ylabel='y'>"
      ]
     },
     "execution_count": 47,
     "metadata": {},
     "output_type": "execute_result"
    },
    {
     "data": {
      "image/png": "[encoded data removed]",
      "text/plain": [
       "<Figure size 432x288 with 1 Axes>"
      ]
     },
     "metadata": {
      "needs_background": "light"
     },
     "output_type": "display_data"
    }
   ],
   "source": [
    "df_list1.plot.scatter(x = \"x\", y = \"y\")"
   ]
  },
  {
   "cell_type": "code",
   "execution_count": 48,
   "metadata": {},
   "outputs": [
    {
     "data": {
      "text/plain": [
       "<AxesSubplot:>"
      ]
     },
     "execution_count": 48,
     "metadata": {},
     "output_type": "execute_result"
    },
    {
     "data": {
      "image/png": "[encoded data removed]",
      "text/plain": [
       "<Figure size 432x288 with 1 Axes>"
      ]
     },
     "metadata": {
      "needs_background": "light"
     },
     "output_type": "display_data"
    }
   ],
   "source": [
    "df_list1.boxplot(column = ['x', 'y'])"
   ]
  }
 ],
 "metadata": {
  "interpreter": {
   "hash": "10360e44c139636a0e40562f0f756d03284a591eb524547abb0417d2281ee780"
  },
  "kernelspec": {
   "display_name": "Python 3.10.2 64-bit",
   "language": "python",
   "name": "python3"
  },
  "language_info": {
   "codemirror_mode": {
    "name": "ipython",
    "version": 3
   },
   "file_extension": ".py",
   "mimetype": "text/x-python",
   "name": "python",
   "nbconvert_exporter": "python",
   "pygments_lexer": "ipython3",
   "version": "3.10.2"
  },
  "orig_nbformat": 4
 },
 "nbformat": 4,
 "nbformat_minor": 2
}
